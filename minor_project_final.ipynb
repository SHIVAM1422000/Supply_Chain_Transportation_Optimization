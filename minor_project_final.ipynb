{
 "cells": [
  {
   "cell_type": "markdown",
   "id": "71ad8457",
   "metadata": {},
   "source": [
    "# This Notebook Contains Code For Minor Project"
   ]
  },
  {
   "cell_type": "code",
   "execution_count": 149,
   "id": "d002315e",
   "metadata": {},
   "outputs": [
    {
     "data": {
      "text/html": [
       "<div>\n",
       "<style scoped>\n",
       "    .dataframe tbody tr th:only-of-type {\n",
       "        vertical-align: middle;\n",
       "    }\n",
       "\n",
       "    .dataframe tbody tr th {\n",
       "        vertical-align: top;\n",
       "    }\n",
       "\n",
       "    .dataframe thead th {\n",
       "        text-align: right;\n",
       "    }\n",
       "</style>\n",
       "<table border=\"1\" class=\"dataframe\">\n",
       "  <thead>\n",
       "    <tr style=\"text-align: right;\">\n",
       "      <th></th>\n",
       "      <th>Origin</th>\n",
       "      <th>Destination</th>\n",
       "      <th>Distance(km)</th>\n",
       "      <th>Flight Time(hr)</th>\n",
       "    </tr>\n",
       "  </thead>\n",
       "  <tbody>\n",
       "    <tr>\n",
       "      <th>0</th>\n",
       "      <td>Russia</td>\n",
       "      <td>US</td>\n",
       "      <td>8885.66</td>\n",
       "      <td>9.74</td>\n",
       "    </tr>\n",
       "    <tr>\n",
       "      <th>1</th>\n",
       "      <td>Russia</td>\n",
       "      <td>Canda</td>\n",
       "      <td>6644.16</td>\n",
       "      <td>7.28</td>\n",
       "    </tr>\n",
       "    <tr>\n",
       "      <th>2</th>\n",
       "      <td>Russia</td>\n",
       "      <td>Japan</td>\n",
       "      <td>3628.8</td>\n",
       "      <td>3.98</td>\n",
       "    </tr>\n",
       "    <tr>\n",
       "      <th>3</th>\n",
       "      <td>Russia</td>\n",
       "      <td>France</td>\n",
       "      <td>6220.82</td>\n",
       "      <td>6.82</td>\n",
       "    </tr>\n",
       "    <tr>\n",
       "      <th>4</th>\n",
       "      <td>Russia</td>\n",
       "      <td>South Africa</td>\n",
       "      <td>12576.59</td>\n",
       "      <td>13.78</td>\n",
       "    </tr>\n",
       "    <tr>\n",
       "      <th>...</th>\n",
       "      <td>...</td>\n",
       "      <td>...</td>\n",
       "      <td>...</td>\n",
       "      <td>...</td>\n",
       "    </tr>\n",
       "    <tr>\n",
       "      <th>133</th>\n",
       "      <td>Saudi Arabia</td>\n",
       "      <td>Germany</td>\n",
       "      <td>4233.43</td>\n",
       "      <td>8.20</td>\n",
       "    </tr>\n",
       "    <tr>\n",
       "      <th>134</th>\n",
       "      <td>Saudi Arabia</td>\n",
       "      <td>Poland</td>\n",
       "      <td>3816.24</td>\n",
       "      <td>8.20</td>\n",
       "    </tr>\n",
       "    <tr>\n",
       "      <th>135</th>\n",
       "      <td>Saudi Arabia</td>\n",
       "      <td>Indonesia</td>\n",
       "      <td>7902.22</td>\n",
       "      <td>8.20</td>\n",
       "    </tr>\n",
       "    <tr>\n",
       "      <th>136</th>\n",
       "      <td>Saudi Arabia</td>\n",
       "      <td>Iran</td>\n",
       "      <td>1269.47</td>\n",
       "      <td>8.20</td>\n",
       "    </tr>\n",
       "    <tr>\n",
       "      <th>137</th>\n",
       "      <td>Saudi Arabia</td>\n",
       "      <td>SouthAfrica</td>\n",
       "      <td>6497.74</td>\n",
       "      <td>8.20</td>\n",
       "    </tr>\n",
       "  </tbody>\n",
       "</table>\n",
       "<p>138 rows × 4 columns</p>\n",
       "</div>"
      ],
      "text/plain": [
       "           Origin   Destination Distance(km)  Flight Time(hr)\n",
       "0          Russia           US       8885.66             9.74\n",
       "1          Russia         Canda      6644.16             7.28\n",
       "2          Russia         Japan       3628.8             3.98\n",
       "3          Russia        France      6220.82             6.82\n",
       "4          Russia  South Africa     12576.59            13.78\n",
       "..            ...           ...          ...              ...\n",
       "133  Saudi Arabia       Germany      4233.43             8.20\n",
       "134  Saudi Arabia        Poland      3816.24             8.20\n",
       "135  Saudi Arabia     Indonesia      7902.22             8.20\n",
       "136  Saudi Arabia          Iran      1269.47             8.20\n",
       "137  Saudi Arabia   SouthAfrica      6497.74             8.20\n",
       "\n",
       "[138 rows x 4 columns]"
      ]
     },
     "execution_count": 149,
     "metadata": {},
     "output_type": "execute_result"
    }
   ],
   "source": [
    "import pandas as pd\n",
    "data=pd.read_csv('minor.csv')\n",
    "data"
   ]
  },
  {
   "cell_type": "code",
   "execution_count": 150,
   "id": "8e2a37b0",
   "metadata": {},
   "outputs": [
    {
     "data": {
      "text/html": [
       "<div>\n",
       "<style scoped>\n",
       "    .dataframe tbody tr th:only-of-type {\n",
       "        vertical-align: middle;\n",
       "    }\n",
       "\n",
       "    .dataframe tbody tr th {\n",
       "        vertical-align: top;\n",
       "    }\n",
       "\n",
       "    .dataframe thead th {\n",
       "        text-align: right;\n",
       "    }\n",
       "</style>\n",
       "<table border=\"1\" class=\"dataframe\">\n",
       "  <thead>\n",
       "    <tr style=\"text-align: right;\">\n",
       "      <th></th>\n",
       "      <th>Origin</th>\n",
       "      <th>Destination</th>\n",
       "      <th>Distance(km)</th>\n",
       "      <th>Flight Time(hr)</th>\n",
       "    </tr>\n",
       "  </thead>\n",
       "  <tbody>\n",
       "    <tr>\n",
       "      <th>35</th>\n",
       "      <td>Canada</td>\n",
       "      <td>Indonesia</td>\n",
       "      <td>12885.7</td>\n",
       "      <td>14.12</td>\n",
       "    </tr>\n",
       "    <tr>\n",
       "      <th>33</th>\n",
       "      <td>Canada</td>\n",
       "      <td>Germany</td>\n",
       "      <td>6750.39</td>\n",
       "      <td>7.40</td>\n",
       "    </tr>\n",
       "    <tr>\n",
       "      <th>77</th>\n",
       "      <td>Brazil</td>\n",
       "      <td>US</td>\n",
       "      <td>7316.57</td>\n",
       "      <td>8.20</td>\n",
       "    </tr>\n",
       "    <tr>\n",
       "      <th>5</th>\n",
       "      <td>Russia</td>\n",
       "      <td>UK</td>\n",
       "      <td>5613.55</td>\n",
       "      <td>6.15</td>\n",
       "    </tr>\n",
       "    <tr>\n",
       "      <th>19</th>\n",
       "      <td>Iran</td>\n",
       "      <td>France</td>\n",
       "      <td>4595.46</td>\n",
       "      <td>5.04</td>\n",
       "    </tr>\n",
       "  </tbody>\n",
       "</table>\n",
       "</div>"
      ],
      "text/plain": [
       "    Origin Destination Distance(km)  Flight Time(hr)\n",
       "35  Canada   Indonesia      12885.7            14.12\n",
       "33  Canada     Germany      6750.39             7.40\n",
       "77  Brazil         US       7316.57             8.20\n",
       "5   Russia          UK      5613.55             6.15\n",
       "19    Iran      France      4595.46             5.04"
      ]
     },
     "execution_count": 150,
     "metadata": {},
     "output_type": "execute_result"
    }
   ],
   "source": [
    "data = data.sample(frac=1, random_state=1)\n",
    "data.head()"
   ]
  },
  {
   "cell_type": "code",
   "execution_count": 151,
   "id": "b6a2e9eb",
   "metadata": {},
   "outputs": [
    {
     "data": {
      "text/plain": [
       "138"
      ]
     },
     "execution_count": 151,
     "metadata": {},
     "output_type": "execute_result"
    }
   ],
   "source": [
    "len(data)"
   ]
  },
  {
   "cell_type": "code",
   "execution_count": 152,
   "id": "8d895d98",
   "metadata": {},
   "outputs": [
    {
     "name": "stdout",
     "output_type": "stream",
     "text": [
      "Origin\n",
      "Destination\n",
      "Distance(km)\n",
      "Flight Time(hr)\n"
     ]
    }
   ],
   "source": [
    "for row in data:\n",
    "    print(row)"
   ]
  },
  {
   "cell_type": "code",
   "execution_count": 153,
   "id": "bdd04f65",
   "metadata": {},
   "outputs": [],
   "source": [
    "import matplotlib.pyplot as plt\n",
    "import random"
   ]
  },
  {
   "cell_type": "markdown",
   "id": "df6e297a",
   "metadata": {},
   "source": [
    "# Plot of Neighbouring countries and their distances:"
   ]
  },
  {
   "cell_type": "code",
   "execution_count": 171,
   "id": "c80997ac",
   "metadata": {},
   "outputs": [
    {
     "data": {
      "image/png": "[encoded data removed]",
      "text/plain": [
       "<Figure size 432x288 with 1 Axes>"
      ]
     },
     "metadata": {
      "needs_background": "light"
     },
     "output_type": "display_data"
    }
   ],
   "source": [
    "from collections import OrderedDict\n",
    "Russia={}\n",
    "for i in range(len(data)):\n",
    "    if data['Origin'][i]=='Russia':\n",
    "        if data['Distance(km)'][i]!='NAN':\n",
    "            Russia[data['Destination'][i]]=float(data['Distance(km)'][i])\n",
    "            \n",
    "plt.bar(Russia.keys(),Russia.values(),color='orange',width=0.5)\n",
    "plt.title(\"Plot for Russia\")\n",
    "plt.xlabel(\"Destination\")\n",
    "plt.ylabel(\"Distance( in kms)\")\n",
    "plt.setp(plt.subplot().get_xticklabels(), rotation=30, ha='right')\n",
    "plt.show()"
   ]
  },
  {
   "cell_type": "code",
   "execution_count": 155,
   "id": "7ef953b5",
   "metadata": {},
   "outputs": [
    {
     "data": {
      "image/png": "[encoded data removed]",
      "text/plain": [
       "<Figure size 432x288 with 1 Axes>"
      ]
     },
     "metadata": {
      "needs_background": "light"
     },
     "output_type": "display_data"
    }
   ],
   "source": [
    "from collections import OrderedDict\n",
    "India={}\n",
    "for i in range(len(data)):\n",
    "    if data['Origin'][i]=='India':\n",
    "        if data['Distance(km)'][i]!='NAN':\n",
    "            India[data['Destination'][i]]=float(data['Distance(km)'][i])\n",
    "            \n",
    "plt.bar(India.keys(),India.values(),color='purple',width=0.5)\n",
    "plt.title(\"Plot for India\")\n",
    "plt.xlabel(\"Destination\")\n",
    "plt.ylabel(\"Distance( in kms)\")\n",
    "plt.setp(plt.subplot().get_xticklabels(), rotation=30, ha='right')\n",
    "plt.show()"
   ]
  },
  {
   "cell_type": "code",
   "execution_count": 156,
   "id": "e7973fd7",
   "metadata": {},
   "outputs": [
    {
     "data": {
      "image/png": "[encoded data removed]",
      "text/plain": [
       "<Figure size 432x288 with 1 Axes>"
      ]
     },
     "metadata": {
      "needs_background": "light"
     },
     "output_type": "display_data"
    }
   ],
   "source": [
    "from collections import OrderedDict\n",
    "Iran={}\n",
    "for i in range(len(data)):\n",
    "    if data['Origin'][i]=='Iran':\n",
    "        if data['Distance(km)'][i]!='NAN':\n",
    "            Iran[data['Destination'][i]]=float(data['Distance(km)'][i])\n",
    "            \n",
    "plt.bar(Iran.keys(),Iran.values(),color='green',width=0.5)\n",
    "plt.title(\"Plot for Iran\")\n",
    "plt.xlabel(\"Destination\")\n",
    "plt.ylabel(\"Distance( in kms)\")\n",
    "plt.setp(plt.subplot().get_xticklabels(), rotation=30, ha='right')\n",
    "plt.show()"
   ]
  },
  {
   "cell_type": "markdown",
   "id": "5281c92e",
   "metadata": {},
   "source": [
    "# Matrixing  the data "
   ]
  },
  {
   "cell_type": "code",
   "execution_count": 157,
   "id": "716d5949",
   "metadata": {},
   "outputs": [],
   "source": [
    "data.replace(to_replace=\"Canda\",value=\"Canada\",inplace=True)"
   ]
  },
  {
   "cell_type": "code",
   "execution_count": 158,
   "id": "f66d103d",
   "metadata": {},
   "outputs": [],
   "source": [
    "count=0\n",
    "cmap={}\n",
    "imap={}\n",
    "for country in data['Origin']:\n",
    "    if cmap.get(country)==None:\n",
    "        cmap[country]=count\n",
    "        imap[count]=country\n",
    "        count+=1\n",
    "        \n",
    "for country in data['Destination']:\n",
    "    if cmap.get(country)==None:\n",
    "        cmap[country]=count\n",
    "        imap[count]=country\n",
    "        count+=1"
   ]
  },
  {
   "cell_type": "code",
   "execution_count": 159,
   "id": "6f593c39",
   "metadata": {},
   "outputs": [
    {
     "data": {
      "text/plain": [
       "{'Canada': 0,\n",
       " 'Brazil': 1,\n",
       " 'Russia': 2,\n",
       " 'Iran': 3,\n",
       " 'China': 4,\n",
       " 'India': 5,\n",
       " 'Saudi Arabia': 6,\n",
       " 'United States': 7,\n",
       " 'Australia': 8,\n",
       " 'Indonesia': 9,\n",
       " 'Germany': 10,\n",
       " 'US ': 11,\n",
       " 'UK': 12,\n",
       " 'France': 13,\n",
       " 'Mexico': 14,\n",
       " 'Denmark': 15,\n",
       " 'SouthAfrica': 16,\n",
       " 'Peru': 17,\n",
       " 'Algeria': 18,\n",
       " 'Venezuela': 19,\n",
       " 'Poland': 20,\n",
       " 'Japan': 21,\n",
       " 'South Africa': 22,\n",
       " 'Guyana': 23,\n",
       " 'Trinidad and Tobago': 24,\n",
       " 'Argentina': 25,\n",
       " 'Paraguay': 26,\n",
       " 'French Guiana': 27}"
      ]
     },
     "execution_count": 159,
     "metadata": {},
     "output_type": "execute_result"
    }
   ],
   "source": [
    "cmap"
   ]
  },
  {
   "cell_type": "code",
   "execution_count": 160,
   "id": "71e26d92",
   "metadata": {},
   "outputs": [
    {
     "data": {
      "text/plain": [
       "{0: 'Canada',\n",
       " 1: 'Brazil',\n",
       " 2: 'Russia',\n",
       " 3: 'Iran',\n",
       " 4: 'China',\n",
       " 5: 'India',\n",
       " 6: 'Saudi Arabia',\n",
       " 7: 'United States',\n",
       " 8: 'Australia',\n",
       " 9: 'Indonesia',\n",
       " 10: 'Germany',\n",
       " 11: 'US ',\n",
       " 12: 'UK',\n",
       " 13: 'France',\n",
       " 14: 'Mexico',\n",
       " 15: 'Denmark',\n",
       " 16: 'SouthAfrica',\n",
       " 17: 'Peru',\n",
       " 18: 'Algeria',\n",
       " 19: 'Venezuela',\n",
       " 20: 'Poland',\n",
       " 21: 'Japan',\n",
       " 22: 'South Africa',\n",
       " 23: 'Guyana',\n",
       " 24: 'Trinidad and Tobago',\n",
       " 25: 'Argentina',\n",
       " 26: 'Paraguay',\n",
       " 27: 'French Guiana'}"
      ]
     },
     "execution_count": 160,
     "metadata": {},
     "output_type": "execute_result"
    }
   ],
   "source": [
    "imap"
   ]
  },
  {
   "cell_type": "code",
   "execution_count": 161,
   "id": "94a9af0f",
   "metadata": {},
   "outputs": [
    {
     "name": "stdout",
     "output_type": "stream",
     "text": [
      "Given Array , len:: 30\n",
      "INF INF INF INF INF INF INF INF INF INF INF INF INF INF INF INF INF INF INF INF INF INF INF INF INF INF INF INF INF INF \n",
      "INF INF INF INF INF INF INF INF INF INF INF INF INF INF INF INF INF INF INF INF INF INF INF INF INF INF INF INF INF INF \n",
      "INF INF INF INF INF INF INF INF INF INF INF INF INF INF INF INF INF INF INF INF INF INF INF INF INF INF INF INF INF INF \n",
      "INF INF INF INF INF INF INF INF INF INF INF INF INF INF INF INF INF INF INF INF INF INF INF INF INF INF INF INF INF INF \n",
      "INF INF INF INF INF INF INF INF INF INF INF INF INF INF INF INF INF INF INF INF INF INF INF INF INF INF INF INF INF INF \n",
      "INF INF INF INF INF INF INF INF INF INF INF INF INF INF INF INF INF INF INF INF INF INF INF INF INF INF INF INF INF INF \n",
      "INF INF INF INF INF INF INF INF INF INF INF INF INF INF INF INF INF INF INF INF INF INF INF INF INF INF INF INF INF INF \n",
      "INF INF INF INF INF INF INF INF INF INF INF INF INF INF INF INF INF INF INF INF INF INF INF INF INF INF INF INF INF INF \n",
      "INF INF INF INF INF INF INF INF INF INF INF INF INF INF INF INF INF INF INF INF INF INF INF INF INF INF INF INF INF INF \n",
      "INF INF INF INF INF INF INF INF INF INF INF INF INF INF INF INF INF INF INF INF INF INF INF INF INF INF INF INF INF INF \n",
      "INF INF INF INF INF INF INF INF INF INF INF INF INF INF INF INF INF INF INF INF INF INF INF INF INF INF INF INF INF INF \n",
      "INF INF INF INF INF INF INF INF INF INF INF INF INF INF INF INF INF INF INF INF INF INF INF INF INF INF INF INF INF INF \n",
      "INF INF INF INF INF INF INF INF INF INF INF INF INF INF INF INF INF INF INF INF INF INF INF INF INF INF INF INF INF INF \n",
      "INF INF INF INF INF INF INF INF INF INF INF INF INF INF INF INF INF INF INF INF INF INF INF INF INF INF INF INF INF INF \n",
      "INF INF INF INF INF INF INF INF INF INF INF INF INF INF INF INF INF INF INF INF INF INF INF INF INF INF INF INF INF INF \n",
      "INF INF INF INF INF INF INF INF INF INF INF INF INF INF INF INF INF INF INF INF INF INF INF INF INF INF INF INF INF INF \n",
      "INF INF INF INF INF INF INF INF INF INF INF INF INF INF INF INF INF INF INF INF INF INF INF INF INF INF INF INF INF INF \n",
      "INF INF INF INF INF INF INF INF INF INF INF INF INF INF INF INF INF INF INF INF INF INF INF INF INF INF INF INF INF INF \n",
      "INF INF INF INF INF INF INF INF INF INF INF INF INF INF INF INF INF INF INF INF INF INF INF INF INF INF INF INF INF INF \n",
      "INF INF INF INF INF INF INF INF INF INF INF INF INF INF INF INF INF INF INF INF INF INF INF INF INF INF INF INF INF INF \n",
      "INF INF INF INF INF INF INF INF INF INF INF INF INF INF INF INF INF INF INF INF INF INF INF INF INF INF INF INF INF INF \n",
      "INF INF INF INF INF INF INF INF INF INF INF INF INF INF INF INF INF INF INF INF INF INF INF INF INF INF INF INF INF INF \n",
      "INF INF INF INF INF INF INF INF INF INF INF INF INF INF INF INF INF INF INF INF INF INF INF INF INF INF INF INF INF INF \n",
      "INF INF INF INF INF INF INF INF INF INF INF INF INF INF INF INF INF INF INF INF INF INF INF INF INF INF INF INF INF INF \n",
      "INF INF INF INF INF INF INF INF INF INF INF INF INF INF INF INF INF INF INF INF INF INF INF INF INF INF INF INF INF INF \n",
      "INF INF INF INF INF INF INF INF INF INF INF INF INF INF INF INF INF INF INF INF INF INF INF INF INF INF INF INF INF INF \n",
      "INF INF INF INF INF INF INF INF INF INF INF INF INF INF INF INF INF INF INF INF INF INF INF INF INF INF INF INF INF INF \n",
      "INF INF INF INF INF INF INF INF INF INF INF INF INF INF INF INF INF INF INF INF INF INF INF INF INF INF INF INF INF INF \n",
      "INF INF INF INF INF INF INF INF INF INF INF INF INF INF INF INF INF INF INF INF INF INF INF INF INF INF INF INF INF INF \n",
      "INF INF INF INF INF INF INF INF INF INF INF INF INF INF INF INF INF INF INF INF INF INF INF INF INF INF INF INF INF INF \n"
     ]
    }
   ],
   "source": [
    "import sys\n",
    "INF=sys.maxsize\n",
    "rows, cols = (30, 30)\n",
    "arr = [[INF]*cols]*rows\n",
    "print(\"Given Array , len::\", len(arr))\n",
    "for i in arr:\n",
    "    for j in i:\n",
    "        if(j==INF):\n",
    "            print(\"INF\",end=\" \")\n",
    "        else:\n",
    "            print(j,end=\" \")\n",
    "            \n",
    "    print()"
   ]
  },
  {
   "cell_type": "code",
   "execution_count": 162,
   "id": "0a25a9b9",
   "metadata": {},
   "outputs": [
    {
     "name": "stdout",
     "output_type": "stream",
     "text": [
      "Indexed Array Created, len:: 30\n"
     ]
    }
   ],
   "source": [
    "for i in range(len(data)):\n",
    "    start=cmap.get(data['Origin'][i])\n",
    "    end=cmap.get(data['Destination'][i])\n",
    "    if data['Distance(km)'][i]=='NAN': \n",
    "        arr[start][end]=INF\n",
    "    else:\n",
    "        arr[start][end]=float(data['Distance(km)'][i])\n",
    "\n",
    "        \n",
    "print(\"Indexed Array Created, len::\", len(arr))"
   ]
  },
  {
   "cell_type": "code",
   "execution_count": 163,
   "id": "26b88ec4",
   "metadata": {},
   "outputs": [
    {
     "name": "stdout",
     "output_type": "stream",
     "text": [
      "                            Indexed Array , len:: 30\n",
      "                       ================================================\n",
      "\n",
      "Current Row:  0  Cols Len: 30\n",
      "10717.6 11339.62 INF 1269.47 INF INF INF INF INF 7902.22 4233.43 12088.65 5266.36 4546.09 INF INF 6497.74 2574.13 INF 2809.53 3816.24 8735.15 6497.74 2259.4 2955.07 2924.11 1231.77 2024.52 INF INF \n",
      "Current Row:  1  Cols Len: 30\n",
      "10717.6 11339.62 INF 1269.47 INF INF INF INF INF 7902.22 4233.43 12088.65 5266.36 4546.09 INF INF 6497.74 2574.13 INF 2809.53 3816.24 8735.15 6497.74 2259.4 2955.07 2924.11 1231.77 2024.52 INF INF \n",
      "Current Row:  2  Cols Len: 30\n",
      "10717.6 11339.62 INF 1269.47 INF INF INF INF INF 7902.22 4233.43 12088.65 5266.36 4546.09 INF INF 6497.74 2574.13 INF 2809.53 3816.24 8735.15 6497.74 2259.4 2955.07 2924.11 1231.77 2024.52 INF INF \n",
      "Current Row:  3  Cols Len: 30\n",
      "10717.6 11339.62 INF 1269.47 INF INF INF INF INF 7902.22 4233.43 12088.65 5266.36 4546.09 INF INF 6497.74 2574.13 INF 2809.53 3816.24 8735.15 6497.74 2259.4 2955.07 2924.11 1231.77 2024.52 INF INF \n",
      "Current Row:  4  Cols Len: 30\n",
      "10717.6 11339.62 INF 1269.47 INF INF INF INF INF 7902.22 4233.43 12088.65 5266.36 4546.09 INF INF 6497.74 2574.13 INF 2809.53 3816.24 8735.15 6497.74 2259.4 2955.07 2924.11 1231.77 2024.52 INF INF \n",
      "Current Row:  5  Cols Len: 30\n",
      "10717.6 11339.62 INF 1269.47 INF INF INF INF INF 7902.22 4233.43 12088.65 5266.36 4546.09 INF INF 6497.74 2574.13 INF 2809.53 3816.24 8735.15 6497.74 2259.4 2955.07 2924.11 1231.77 2024.52 INF INF \n",
      "Current Row:  6  Cols Len: 30\n",
      "10717.6 11339.62 INF 1269.47 INF INF INF INF INF 7902.22 4233.43 12088.65 5266.36 4546.09 INF INF 6497.74 2574.13 INF 2809.53 3816.24 8735.15 6497.74 2259.4 2955.07 2924.11 1231.77 2024.52 INF INF \n",
      "Current Row:  7  Cols Len: 30\n",
      "10717.6 11339.62 INF 1269.47 INF INF INF INF INF 7902.22 4233.43 12088.65 5266.36 4546.09 INF INF 6497.74 2574.13 INF 2809.53 3816.24 8735.15 6497.74 2259.4 2955.07 2924.11 1231.77 2024.52 INF INF \n",
      "Current Row:  8  Cols Len: 30\n",
      "10717.6 11339.62 INF 1269.47 INF INF INF INF INF 7902.22 4233.43 12088.65 5266.36 4546.09 INF INF 6497.74 2574.13 INF 2809.53 3816.24 8735.15 6497.74 2259.4 2955.07 2924.11 1231.77 2024.52 INF INF \n",
      "Current Row:  9  Cols Len: 30\n",
      "10717.6 11339.62 INF 1269.47 INF INF INF INF INF 7902.22 4233.43 12088.65 5266.36 4546.09 INF INF 6497.74 2574.13 INF 2809.53 3816.24 8735.15 6497.74 2259.4 2955.07 2924.11 1231.77 2024.52 INF INF \n",
      "Current Row:  10  Cols Len: 30\n",
      "10717.6 11339.62 INF 1269.47 INF INF INF INF INF 7902.22 4233.43 12088.65 5266.36 4546.09 INF INF 6497.74 2574.13 INF 2809.53 3816.24 8735.15 6497.74 2259.4 2955.07 2924.11 1231.77 2024.52 INF INF \n",
      "Current Row:  11  Cols Len: 30\n",
      "10717.6 11339.62 INF 1269.47 INF INF INF INF INF 7902.22 4233.43 12088.65 5266.36 4546.09 INF INF 6497.74 2574.13 INF 2809.53 3816.24 8735.15 6497.74 2259.4 2955.07 2924.11 1231.77 2024.52 INF INF \n",
      "Current Row:  12  Cols Len: 30\n",
      "10717.6 11339.62 INF 1269.47 INF INF INF INF INF 7902.22 4233.43 12088.65 5266.36 4546.09 INF INF 6497.74 2574.13 INF 2809.53 3816.24 8735.15 6497.74 2259.4 2955.07 2924.11 1231.77 2024.52 INF INF \n",
      "Current Row:  13  Cols Len: 30\n",
      "10717.6 11339.62 INF 1269.47 INF INF INF INF INF 7902.22 4233.43 12088.65 5266.36 4546.09 INF INF 6497.74 2574.13 INF 2809.53 3816.24 8735.15 6497.74 2259.4 2955.07 2924.11 1231.77 2024.52 INF INF \n",
      "Current Row:  14  Cols Len: 30\n",
      "10717.6 11339.62 INF 1269.47 INF INF INF INF INF 7902.22 4233.43 12088.65 5266.36 4546.09 INF INF 6497.74 2574.13 INF 2809.53 3816.24 8735.15 6497.74 2259.4 2955.07 2924.11 1231.77 2024.52 INF INF \n",
      "Current Row:  15  Cols Len: 30\n",
      "10717.6 11339.62 INF 1269.47 INF INF INF INF INF 7902.22 4233.43 12088.65 5266.36 4546.09 INF INF 6497.74 2574.13 INF 2809.53 3816.24 8735.15 6497.74 2259.4 2955.07 2924.11 1231.77 2024.52 INF INF \n",
      "Current Row:  16  Cols Len: 30\n",
      "10717.6 11339.62 INF 1269.47 INF INF INF INF INF 7902.22 4233.43 12088.65 5266.36 4546.09 INF INF 6497.74 2574.13 INF 2809.53 3816.24 8735.15 6497.74 2259.4 2955.07 2924.11 1231.77 2024.52 INF INF \n",
      "Current Row:  17  Cols Len: 30\n",
      "10717.6 11339.62 INF 1269.47 INF INF INF INF INF 7902.22 4233.43 12088.65 5266.36 4546.09 INF INF 6497.74 2574.13 INF 2809.53 3816.24 8735.15 6497.74 2259.4 2955.07 2924.11 1231.77 2024.52 INF INF \n",
      "Current Row:  18  Cols Len: 30\n",
      "10717.6 11339.62 INF 1269.47 INF INF INF INF INF 7902.22 4233.43 12088.65 5266.36 4546.09 INF INF 6497.74 2574.13 INF 2809.53 3816.24 8735.15 6497.74 2259.4 2955.07 2924.11 1231.77 2024.52 INF INF \n",
      "Current Row:  19  Cols Len: 30\n",
      "10717.6 11339.62 INF 1269.47 INF INF INF INF INF 7902.22 4233.43 12088.65 5266.36 4546.09 INF INF 6497.74 2574.13 INF 2809.53 3816.24 8735.15 6497.74 2259.4 2955.07 2924.11 1231.77 2024.52 INF INF \n",
      "Current Row:  20  Cols Len: 30\n",
      "10717.6 11339.62 INF 1269.47 INF INF INF INF INF 7902.22 4233.43 12088.65 5266.36 4546.09 INF INF 6497.74 2574.13 INF 2809.53 3816.24 8735.15 6497.74 2259.4 2955.07 2924.11 1231.77 2024.52 INF INF \n",
      "Current Row:  21  Cols Len: 30\n",
      "10717.6 11339.62 INF 1269.47 INF INF INF INF INF 7902.22 4233.43 12088.65 5266.36 4546.09 INF INF 6497.74 2574.13 INF 2809.53 3816.24 8735.15 6497.74 2259.4 2955.07 2924.11 1231.77 2024.52 INF INF \n",
      "Current Row:  22  Cols Len: 30\n",
      "10717.6 11339.62 INF 1269.47 INF INF INF INF INF 7902.22 4233.43 12088.65 5266.36 4546.09 INF INF 6497.74 2574.13 INF 2809.53 3816.24 8735.15 6497.74 2259.4 2955.07 2924.11 1231.77 2024.52 INF INF \n",
      "Current Row:  23  Cols Len: 30\n",
      "10717.6 11339.62 INF 1269.47 INF INF INF INF INF 7902.22 4233.43 12088.65 5266.36 4546.09 INF INF 6497.74 2574.13 INF 2809.53 3816.24 8735.15 6497.74 2259.4 2955.07 2924.11 1231.77 2024.52 INF INF \n",
      "Current Row:  24  Cols Len: 30\n",
      "10717.6 11339.62 INF 1269.47 INF INF INF INF INF 7902.22 4233.43 12088.65 5266.36 4546.09 INF INF 6497.74 2574.13 INF 2809.53 3816.24 8735.15 6497.74 2259.4 2955.07 2924.11 1231.77 2024.52 INF INF \n",
      "Current Row:  25  Cols Len: 30\n",
      "10717.6 11339.62 INF 1269.47 INF INF INF INF INF 7902.22 4233.43 12088.65 5266.36 4546.09 INF INF 6497.74 2574.13 INF 2809.53 3816.24 8735.15 6497.74 2259.4 2955.07 2924.11 1231.77 2024.52 INF INF \n",
      "Current Row:  26  Cols Len: 30\n",
      "10717.6 11339.62 INF 1269.47 INF INF INF INF INF 7902.22 4233.43 12088.65 5266.36 4546.09 INF INF 6497.74 2574.13 INF 2809.53 3816.24 8735.15 6497.74 2259.4 2955.07 2924.11 1231.77 2024.52 INF INF \n",
      "Current Row:  27  Cols Len: 30\n",
      "10717.6 11339.62 INF 1269.47 INF INF INF INF INF 7902.22 4233.43 12088.65 5266.36 4546.09 INF INF 6497.74 2574.13 INF 2809.53 3816.24 8735.15 6497.74 2259.4 2955.07 2924.11 1231.77 2024.52 INF INF \n",
      "Current Row:  28  Cols Len: 30\n",
      "10717.6 11339.62 INF 1269.47 INF INF INF INF INF 7902.22 4233.43 12088.65 5266.36 4546.09 INF INF 6497.74 2574.13 INF 2809.53 3816.24 8735.15 6497.74 2259.4 2955.07 2924.11 1231.77 2024.52 INF INF \n",
      "Current Row:  29  Cols Len: 30\n",
      "10717.6 11339.62 INF 1269.47 INF INF INF INF INF 7902.22 4233.43 12088.65 5266.36 4546.09 INF INF 6497.74 2574.13 INF 2809.53 3816.24 8735.15 6497.74 2259.4 2955.07 2924.11 1231.77 2024.52 INF INF \n"
     ]
    }
   ],
   "source": [
    "print(\"                            Indexed Array , len::\", len(arr))\n",
    "print(\"                       ================================================\")\n",
    "print()\n",
    "for i in range(len(arr)):\n",
    "    print(\"Current Row: \" , i, \" Cols Len:\" , len(arr[i])) \n",
    "    for j in range(len(arr[i])):\n",
    "        if(arr[i][j]==INF):\n",
    "            print(\"INF\",end=\" \")\n",
    "        else:\n",
    "            print(arr[i][j],end=\" \")\n",
    "            \n",
    "    print()"
   ]
  },
  {
   "cell_type": "markdown",
   "id": "32789283",
   "metadata": {},
   "source": [
    "# Algorithm"
   ]
  },
  {
   "cell_type": "code",
   "execution_count": 164,
   "id": "afa39145",
   "metadata": {},
   "outputs": [],
   "source": [
    "class MinCost:\n",
    "    \n",
    "    cost=INF\n",
    "    final_path=[]\n",
    "    \n",
    "    def DFS(self, s, d, vis, cp, cost):\n",
    "        vis[s]=True\n",
    "        cp.append(s)\n",
    "        \n",
    "        if cost>self.cost:\n",
    "            return\n",
    "        \n",
    "        if(s==d):\n",
    "            \n",
    "            if self.cost==INF or cost < self.cost:\n",
    "                self.cost=cost\n",
    "                self.final_path=cp\n",
    "            else:\n",
    "                return\n",
    "            print(\"\")\n",
    "            print(\"Reached Destination with a cost of\", cost)\n",
    "            print(cp)            \n",
    "            for i in range(len(cp)):\n",
    "                if i !=  len(cp)-1 :\n",
    "                    print( imap.get(cp[i]), end =  \" -> \")\n",
    "                else:\n",
    "                    print( imap.get(cp[i]),end =\" \")\n",
    "            print()\n",
    "            \n",
    "            vis[s]=False\n",
    "            cp.pop()\n",
    "            return\n",
    "    \n",
    "        for i in range(len(arr)):\n",
    "            if(vis[i]!=True and arr[s][i]!=INF):\n",
    "                self.DFS(i, d, vis , cp, cost+arr[s][i])\n",
    "\n",
    "        vis[s]=False\n",
    "        cp.pop()\n",
    "        return\n",
    "    \n",
    "    def optimize(self , source,destination):\n",
    "\n",
    "        o=cmap.get(source)\n",
    "        d=cmap.get(destination)\n",
    "        if(d==None):\n",
    "            print(\"No optimal path could be found\")\n",
    "            return\n",
    "    \n",
    "        print(\"Searching for path b/w u\", source,o, \" -> \" , destination,d)\n",
    "        vis=[]\n",
    "        for i in range(len(arr)):\n",
    "            vis.append(False)\n",
    "    \n",
    "        self.DFS(o,d,vis,[],0)\n",
    "        \n",
    "    def print_path(self):\n",
    "        print(\"Printing The Most Optimal Path\")\n",
    "        print(self.final_path , self.cost)\n",
    "        for i in range(len(self.final_path)):\n",
    "                if i !=  len(self.final_path)-1 :\n",
    "                    print( imap.get(self.final_path[i]), end =  \" -> \")\n",
    "                else:\n",
    "                    print( imap.get(self.final_path[i]),end =\" \")\n",
    "    "
   ]
  },
  {
   "cell_type": "code",
   "execution_count": 165,
   "id": "99670f1c",
   "metadata": {},
   "outputs": [
    {
     "name": "stdout",
     "output_type": "stream",
     "text": [
      "Searching for path b/w u Russia 2  ->  UK 12\n",
      "\n",
      "Reached Destination with a cost of 52817.350000000006\n",
      "[2, 0, 1, 3, 9, 10, 11, 12]\n",
      "Russia -> Canada -> Brazil -> Iran -> Indonesia -> Germany -> US  -> UK \n"
     ]
    }
   ],
   "source": [
    "ob1=MinCost()\n",
    "ob1.optimize(\"Russia\",\"UK\")"
   ]
  },
  {
   "cell_type": "code",
   "execution_count": 166,
   "id": "17c0d526",
   "metadata": {},
   "outputs": [
    {
     "name": "stdout",
     "output_type": "stream",
     "text": [
      "Searching for path b/w u India 5  ->  Iran 3\n",
      "\n",
      "Reached Destination with a cost of 23326.690000000002\n",
      "[5, 0, 1, 3]\n",
      "India -> Canada -> Brazil -> Iran \n"
     ]
    }
   ],
   "source": [
    "ob2=MinCost()\n",
    "ob2.optimize(\"India\",\"Iran\")"
   ]
  },
  {
   "cell_type": "code",
   "execution_count": 167,
   "id": "a399d9dc",
   "metadata": {},
   "outputs": [
    {
     "name": "stdout",
     "output_type": "stream",
     "text": [
      "Searching for path b/w u India 5  ->  UK 12\n",
      "\n",
      "Reached Destination with a cost of 52817.350000000006\n",
      "[5, 0, 1, 3, 9, 10, 11, 12]\n",
      "India -> Canada -> Brazil -> Iran -> Indonesia -> Germany -> US  -> UK \n"
     ]
    }
   ],
   "source": [
    "ob3=MinCost()\n",
    "ob3.optimize(\"India\",\"UK\")"
   ]
  },
  {
   "cell_type": "code",
   "execution_count": 168,
   "id": "59597bdf",
   "metadata": {},
   "outputs": [
    {
     "name": "stdout",
     "output_type": "stream",
     "text": [
      "Searching for path b/w u India 5  ->  Germany 10\n",
      "\n",
      "Reached Destination with a cost of 35462.340000000004\n",
      "[5, 0, 1, 3, 9, 10]\n",
      "India -> Canada -> Brazil -> Iran -> Indonesia -> Germany \n"
     ]
    }
   ],
   "source": [
    "ob3=MinCost()\n",
    "ob3.optimize(\"India\",\"Germany\")"
   ]
  },
  {
   "cell_type": "code",
   "execution_count": 169,
   "id": "d7c5fe85",
   "metadata": {},
   "outputs": [
    {
     "name": "stdout",
     "output_type": "stream",
     "text": [
      "Searching for path b/w u Germany 10  ->  France 13\n",
      "\n",
      "Reached Destination with a cost of 53130.01000000001\n",
      "[10, 0, 1, 3, 9, 11, 12, 13]\n",
      "Germany -> Canada -> Brazil -> Iran -> Indonesia -> US  -> UK -> France \n"
     ]
    }
   ],
   "source": [
    "ob4=MinCost()\n",
    "ob4.optimize(\"Germany\",\"France\")"
   ]
  },
  {
   "cell_type": "raw",
   "id": "71eeb25d",
   "metadata": {},
   "source": []
  }
 ],
 "metadata": {
  "kernelspec": {
   "display_name": "Python 3 (ipykernel)",
   "language": "python",
   "name": "python3"
  },
  "language_info": {
   "codemirror_mode": {
    "name": "ipython",
    "version": 3
   },
   "file_extension": ".py",
   "mimetype": "text/x-python",
   "name": "python",
   "nbconvert_exporter": "python",
   "pygments_lexer": "ipython3",
   "version": "3.9.7"
  }
 },
 "nbformat": 4,
 "nbformat_minor": 5
}
