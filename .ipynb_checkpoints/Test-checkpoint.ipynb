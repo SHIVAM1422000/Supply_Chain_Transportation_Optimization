{
 "cells": [
  {
   "cell_type": "markdown",
   "id": "6387856a",
   "metadata": {},
   "source": [
    "# This will test the algoritm"
   ]
  },
  {
   "cell_type": "code",
   "execution_count": 109,
   "id": "088d7513",
   "metadata": {},
   "outputs": [],
   "source": [
    "import sys "
   ]
  },
  {
   "cell_type": "code",
   "execution_count": 110,
   "id": "95c39635",
   "metadata": {},
   "outputs": [
    {
     "name": "stdout",
     "output_type": "stream",
     "text": [
      "Given graph\n",
      "\n",
      "INF -1 INF 1 INF \n",
      "INF INF -2 INF INF \n",
      "-3 INF INF INF INF \n",
      "INF INF -1 INF INF \n",
      "INF INF INF 2 INF "
     ]
    }
   ],
   "source": [
    "V=5\n",
    "INF=sys.maxsize\n",
    "graph = [[INF for j in range(V)]\n",
    "                  for i in range(V)]\n",
    "# Initialising the edges\n",
    "graph[0][1] = -1\n",
    "graph[0][3] = 1\n",
    "graph[1][2] = -2\n",
    "graph[2][0] = -3\n",
    "graph[3][2] = -1\n",
    "graph[4][3] = 2\n",
    "\n",
    "\n",
    "print(\"Given graph\")\n",
    "\n",
    "for i in graph:\n",
    "    print()\n",
    "    for j in i:\n",
    "        if j==INF:\n",
    "            print(\"INF\" , end=\" \")\n",
    "        else:   \n",
    "            print(j,end=\" \")"
   ]
  },
  {
   "cell_type": "code",
   "execution_count": 120,
   "id": "d04108e0",
   "metadata": {},
   "outputs": [],
   "source": [
    "\n",
    "def DFS(s, d, vis,cp,cost,all_paths):\n",
    "    vis[s]=True\n",
    "    cp.append(s)\n",
    "    if(s==d):\n",
    "        temp=[i for i in cp]\n",
    "        vis[s]=False\n",
    "        cp.pop()\n",
    "        all_paths.append(temp)\n",
    "        return\n",
    "    \n",
    "    for i in range(len(graph)):\n",
    "        if(vis[i]!=True and graph[s][i]!=INF):\n",
    "            DFS(i, d, vis , cp, cost+graph[s][i], all_paths)\n",
    "\n",
    "    vis[s]=False\n",
    "    cp.pop()\n",
    "    return\n",
    "\n"
   ]
  },
  {
   "cell_type": "code",
   "execution_count": 122,
   "id": "0bba8b99",
   "metadata": {},
   "outputs": [],
   "source": [
    "def optimize(s,d):\n",
    "    vis=[]\n",
    "    all_paths=[]\n",
    "    for i in range(len(graph)):\n",
    "        vis.append(False)\n",
    "    DFS(s,d,vis,[],0,all_paths)\n",
    "    return all_paths"
   ]
  },
  {
   "cell_type": "code",
   "execution_count": 123,
   "id": "db826ed0",
   "metadata": {},
   "outputs": [],
   "source": [
    "def minPath(all_paths):\n",
    "    minc=INF\n",
    "    ans=[]\n",
    "    for c in all_paths:\n",
    "        cost=0\n",
    "        for i in range(len(c)-1):\n",
    "            cost+=graph[c[i]][c[i+1]]\n",
    "            if(cost<minc):\n",
    "                minc=cost\n",
    "                ans=c\n",
    "    return [minc,ans]"
   ]
  },
  {
   "cell_type": "code",
   "execution_count": 126,
   "id": "e81a616b",
   "metadata": {},
   "outputs": [
    {
     "name": "stdout",
     "output_type": "stream",
     "text": [
      "Min Cost:  -3\n",
      "Min Cost Path:  [0, 1, 2]\n"
     ]
    }
   ],
   "source": [
    "all_paths=optimize(0,2)\n",
    "ans=minPath(all_paths)\n",
    "print(\"Min Cost: \" , ans[0])\n",
    "print(\"Min Cost Path: \", ans[1])"
   ]
  },
  {
   "cell_type": "code",
   "execution_count": 128,
   "id": "e52ccf42",
   "metadata": {},
   "outputs": [],
   "source": [
    "DFS(0,2,vis,[],0,all_paths)"
   ]
  }
 ],
 "metadata": {
  "kernelspec": {
   "display_name": "Python 3 (ipykernel)",
   "language": "python",
   "name": "python3"
  },
  "language_info": {
   "codemirror_mode": {
    "name": "ipython",
    "version": 3
   },
   "file_extension": ".py",
   "mimetype": "text/x-python",
   "name": "python",
   "nbconvert_exporter": "python",
   "pygments_lexer": "ipython3",
   "version": "3.9.7"
  }
 },
 "nbformat": 4,
 "nbformat_minor": 5
}
