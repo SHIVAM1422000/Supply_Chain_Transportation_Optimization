{
 "cells": [
  {
   "cell_type": "markdown",
   "id": "6387856a",
   "metadata": {},
   "source": [
    "# This will test the algoritm"
   ]
  },
  {
   "cell_type": "code",
   "execution_count": 109,
   "id": "088d7513",
   "metadata": {},
   "outputs": [],
   "source": [
    "import sys "
   ]
  },
  {
   "cell_type": "code",
   "execution_count": 110,
   "id": "95c39635",
   "metadata": {},
   "outputs": [
    {
     "name": "stdout",
     "output_type": "stream",
     "text": [
      "Given graph\n",
      "\n",
      "INF -1 INF 1 INF \n",
      "INF INF -2 INF INF \n",
      "-3 INF INF INF INF \n",
      "INF INF -1 INF INF \n",
      "INF INF INF 2 INF "
     ]
    }
   ],
   "source": [
    "V=5\n",
    "INF=sys.maxsize\n",
    "graph = [[INF for j in range(V)]\n",
    "                  for i in range(V)]\n",
    "# Initialising the edges\n",
    "graph[0][1] = -1\n",
    "graph[0][3] = 1\n",
    "graph[1][2] = -2\n",
    "graph[2][0] = -3\n",
    "graph[3][2] = -1\n",
    "graph[4][3] = 2\n",
    "\n",
    "\n",
    "print(\"Given graph\")\n",
    "\n",
    "for i in graph:\n",
    "    print()\n",
    "    for j in i:\n",
    "        if j==INF:\n",
    "            print(\"INF\" , end=\" \")\n",
    "        else:   \n",
    "            print(j,end=\" \")"
   ]
  },
  {
   "cell_type": "code",
   "execution_count": 134,
   "id": "d04108e0",
   "metadata": {},
   "outputs": [
    {
     "ename": "SyntaxError",
     "evalue": "invalid syntax (1286020807.py, line 1)",
     "output_type": "error",
     "traceback": [
      "\u001b[0;36m  File \u001b[0;32m\"/var/folders/sg/mycbc9v90yb2y5tpzf4pl2900000gn/T/ipykernel_38953/1286020807.py\"\u001b[0;36m, line \u001b[0;32m1\u001b[0m\n\u001b[0;31m    global minx=INF\u001b[0m\n\u001b[0m               ^\u001b[0m\n\u001b[0;31mSyntaxError\u001b[0m\u001b[0;31m:\u001b[0m invalid syntax\n"
     ]
    }
   ],
   "source": [
    "global minx=INF   \n",
    "\n",
    "def DFS(s, d, vis,cp,cost,all_paths):\n",
    "        vis[s]=True\n",
    "        cp.append(s)\n",
    "        if(s==d):\n",
    "            print(\"Reached Destination\")\n",
    "            temp=[i for i in cp]\n",
    "            vis[s]=False\n",
    "            cp.pop()\n",
    "            print(temp)\n",
    "            all_paths.append(temp)\n",
    "            return\n",
    "    \n",
    "        for i in range(len(graph)):\n",
    "            if(vis[i]!=True and graph[s][i]!=INF):\n",
    "                DFS(i, d, vis , cp, cost+graph[s][i], all_paths)\n",
    "\n",
    "        vis[s]=False\n",
    "        cp.pop()\n",
    "        return\n",
    "\n"
   ]
  },
  {
   "cell_type": "code",
   "execution_count": 133,
   "id": "0bba8b99",
   "metadata": {},
   "outputs": [],
   "source": [
    "def optimize(s,d):\n",
    "    vis=[]\n",
    "    all_paths=[]\n",
    "    for i in range(len(graph)):\n",
    "        vis.append(False)\n",
    "    DFS(s,d,vis,[],0,all_paths)\n",
    "    return all_paths"
   ]
  },
  {
   "cell_type": "code",
   "execution_count": 123,
   "id": "35758852",
   "metadata": {},
   "outputs": [],
   "source": [
    "def minPath(all_paths):\n",
    "    minc=INF\n",
    "    ans=[]\n",
    "    for c in all_paths:\n",
    "        cost=0\n",
    "        for i in range(len(c)-1):\n",
    "            cost+=graph[c[i]][c[i+1]]\n",
    "            if(cost<minc):\n",
    "                minc=cost\n",
    "                ans=c\n",
    "    return [minc,ans]"
   ]
  },
  {
   "cell_type": "code",
   "execution_count": 131,
   "id": "e81a616b",
   "metadata": {},
   "outputs": [
    {
     "ename": "TypeError",
     "evalue": "DFS() takes 6 positional arguments but 7 were given",
     "output_type": "error",
     "traceback": [
      "\u001b[0;31m---------------------------------------------------------------------------\u001b[0m",
      "\u001b[0;31mTypeError\u001b[0m                                 Traceback (most recent call last)",
      "\u001b[0;32m/var/folders/sg/mycbc9v90yb2y5tpzf4pl2900000gn/T/ipykernel_38953/3173615120.py\u001b[0m in \u001b[0;36m<module>\u001b[0;34m\u001b[0m\n\u001b[0;32m----> 1\u001b[0;31m \u001b[0mall_paths\u001b[0m\u001b[0;34m=\u001b[0m\u001b[0moptimize\u001b[0m\u001b[0;34m(\u001b[0m\u001b[0;36m0\u001b[0m\u001b[0;34m,\u001b[0m\u001b[0;36m2\u001b[0m\u001b[0;34m)\u001b[0m\u001b[0;34m\u001b[0m\u001b[0;34m\u001b[0m\u001b[0m\n\u001b[0m\u001b[1;32m      2\u001b[0m \u001b[0mans\u001b[0m\u001b[0;34m=\u001b[0m\u001b[0mminPath\u001b[0m\u001b[0;34m(\u001b[0m\u001b[0mall_paths\u001b[0m\u001b[0;34m)\u001b[0m\u001b[0;34m\u001b[0m\u001b[0;34m\u001b[0m\u001b[0m\n\u001b[1;32m      3\u001b[0m \u001b[0mprint\u001b[0m\u001b[0;34m(\u001b[0m\u001b[0;34m\"Min Cost: \"\u001b[0m \u001b[0;34m,\u001b[0m \u001b[0mans\u001b[0m\u001b[0;34m[\u001b[0m\u001b[0;36m0\u001b[0m\u001b[0;34m]\u001b[0m\u001b[0;34m)\u001b[0m\u001b[0;34m\u001b[0m\u001b[0;34m\u001b[0m\u001b[0m\n\u001b[1;32m      4\u001b[0m \u001b[0mprint\u001b[0m\u001b[0;34m(\u001b[0m\u001b[0;34m\"Min Cost Path: \"\u001b[0m\u001b[0;34m,\u001b[0m \u001b[0mans\u001b[0m\u001b[0;34m[\u001b[0m\u001b[0;36m1\u001b[0m\u001b[0;34m]\u001b[0m\u001b[0;34m)\u001b[0m\u001b[0;34m\u001b[0m\u001b[0;34m\u001b[0m\u001b[0m\n",
      "\u001b[0;32m/var/folders/sg/mycbc9v90yb2y5tpzf4pl2900000gn/T/ipykernel_38953/2668235574.py\u001b[0m in \u001b[0;36moptimize\u001b[0;34m(s, d)\u001b[0m\n\u001b[1;32m      4\u001b[0m     \u001b[0;32mfor\u001b[0m \u001b[0mi\u001b[0m \u001b[0;32min\u001b[0m \u001b[0mrange\u001b[0m\u001b[0;34m(\u001b[0m\u001b[0mlen\u001b[0m\u001b[0;34m(\u001b[0m\u001b[0mgraph\u001b[0m\u001b[0;34m)\u001b[0m\u001b[0;34m)\u001b[0m\u001b[0;34m:\u001b[0m\u001b[0;34m\u001b[0m\u001b[0;34m\u001b[0m\u001b[0m\n\u001b[1;32m      5\u001b[0m         \u001b[0mvis\u001b[0m\u001b[0;34m.\u001b[0m\u001b[0mappend\u001b[0m\u001b[0;34m(\u001b[0m\u001b[0;32mFalse\u001b[0m\u001b[0;34m)\u001b[0m\u001b[0;34m\u001b[0m\u001b[0;34m\u001b[0m\u001b[0m\n\u001b[0;32m----> 6\u001b[0;31m     \u001b[0mDFS\u001b[0m\u001b[0;34m(\u001b[0m\u001b[0ms\u001b[0m\u001b[0;34m,\u001b[0m\u001b[0md\u001b[0m\u001b[0;34m,\u001b[0m\u001b[0mvis\u001b[0m\u001b[0;34m,\u001b[0m\u001b[0;34m[\u001b[0m\u001b[0;34m]\u001b[0m\u001b[0;34m,\u001b[0m\u001b[0;36m0\u001b[0m\u001b[0;34m,\u001b[0m\u001b[0mall_paths\u001b[0m\u001b[0;34m,\u001b[0m\u001b[0;36m0\u001b[0m\u001b[0;34m)\u001b[0m\u001b[0;34m\u001b[0m\u001b[0;34m\u001b[0m\u001b[0m\n\u001b[0m\u001b[1;32m      7\u001b[0m     \u001b[0;32mreturn\u001b[0m \u001b[0mall_paths\u001b[0m\u001b[0;34m\u001b[0m\u001b[0;34m\u001b[0m\u001b[0m\n",
      "\u001b[0;31mTypeError\u001b[0m: DFS() takes 6 positional arguments but 7 were given"
     ]
    }
   ],
   "source": [
    "all_paths=optimize(0,2)\n",
    "ans=minPath(all_paths)\n",
    "print(\"Min Cost: \" , ans[0])\n",
    "print(\"Min Cost Path: \", ans[1])"
   ]
  },
  {
   "cell_type": "code",
   "execution_count": 128,
   "id": "92ccf1e1",
   "metadata": {},
   "outputs": [],
   "source": [
    "DFS(0,2,vis,[],0,all_paths)"
   ]
  }
 ],
 "metadata": {
  "kernelspec": {
   "display_name": "Python 3 (ipykernel)",
   "language": "python",
   "name": "python3"
  },
  "language_info": {
   "codemirror_mode": {
    "name": "ipython",
    "version": 3
   },
   "file_extension": ".py",
   "mimetype": "text/x-python",
   "name": "python",
   "nbconvert_exporter": "python",
   "pygments_lexer": "ipython3",
   "version": "3.9.7"
  }
 },
 "nbformat": 4,
 "nbformat_minor": 5
}
